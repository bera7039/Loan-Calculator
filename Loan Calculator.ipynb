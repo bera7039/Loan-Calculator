{
 "cells": [
  {
   "cell_type": "code",
   "execution_count": 17,
   "id": "4f597462-75fe-4f6b-bd18-5d5941cc1cd0",
   "metadata": {},
   "outputs": [
    {
     "name": "stdin",
     "output_type": "stream",
     "text": [
      "Enter loan amount (₹):  200000\n",
      "Enter annual interest rate (%):  2\n",
      "Enter loan duration (years):  12\n"
     ]
    },
    {
     "ename": "AttributeError",
     "evalue": "'LoanCalculator' object has no attribute 'print_summary'",
     "output_type": "error",
     "traceback": [
      "\u001b[31m---------------------------------------------------------------------------\u001b[39m",
      "\u001b[31mAttributeError\u001b[39m                            Traceback (most recent call last)",
      "\u001b[36mCell\u001b[39m\u001b[36m \u001b[39m\u001b[32mIn[17]\u001b[39m\u001b[32m, line 56\u001b[39m\n\u001b[32m     53\u001b[39m Y = \u001b[38;5;28mint\u001b[39m(\u001b[38;5;28minput\u001b[39m(\u001b[33m\"\u001b[39m\u001b[33mEnter loan duration (years): \u001b[39m\u001b[33m\"\u001b[39m))\n\u001b[32m     55\u001b[39m loan = LoanCalculator(P,R,Y)\n\u001b[32m---> \u001b[39m\u001b[32m56\u001b[39m \u001b[43mloan\u001b[49m\u001b[43m.\u001b[49m\u001b[43mprint_summary\u001b[49m()\n\u001b[32m     57\u001b[39m loan.generate_amortization_schedule()\n\u001b[32m     58\u001b[39m loan.print_schedule()    \n",
      "\u001b[31mAttributeError\u001b[39m: 'LoanCalculator' object has no attribute 'print_summary'"
     ]
    }
   ],
   "source": [
    "#loan calculator\n",
    "from collections import deque\n",
    "class LoanCalculator:\n",
    "      def __init__(self,principal,annual_rate,years):\n",
    "          self.principal = principal\n",
    "          self.annual_rate = annual_rate\n",
    "          self.years = years\n",
    "          self.monthly_rate = self.annual_rate/12/100\n",
    "          self.months = self.years * 12\n",
    "          self.emi = self.calculate_emi()\n",
    "          self.payment_history = deque()\n",
    "\n",
    "      def calculate_emi(self):\n",
    "          R = self.monthly_rate\n",
    "          N = self.months\n",
    "          P = self.principal\n",
    "          emi = (P * R * (1+R) **N)/((1+R)**N-1)\n",
    "          return round(emi,2)\n",
    "\n",
    "          def generate_amortization_schedule(self):\n",
    "              balance = self.principal\n",
    "              schedule = []\n",
    "              for month in range(1, self.months + 1):\n",
    "                  interest = balance * self.monthly_rate\n",
    "                  principal_paid = self.emi - interest\n",
    "                  balance -= principal_paid\n",
    "                  self.payment_history.append({\n",
    "                      'Month': month,\n",
    "                      'EMI': round(self.emi,2),\n",
    "                      'Principal': round(principal_paid,2),\n",
    "                      'Remaining Balance': round(balance,2)\n",
    "\n",
    "                  })\n",
    "                  schedule.append(self.payment_history[-1])\n",
    "              return schedule\n",
    "\n",
    "              def print_summary(self):\n",
    "                  print(f\"\\nloan summary:\")\n",
    "                  print(f\" loan amount: {self.principal}\")\n",
    "                  print(f\"annual interest rate: {self.annual_rate}%\")\n",
    "                  print(f\" duration: {self.years} years\")\n",
    "                  print(f\" EMI: {self.emi}\\n\")\n",
    "\n",
    "              def print_schedule(self):\n",
    "                    print(\"Month|EMI|Interest| Principal|Remaining balance\")\n",
    "                    for record in self.payment_history:\n",
    "                        print(f\"{record['Month']:>5} | {record['EMI']:>7}| ₹{record['Interest']:>8} | ₹{record['Principal']:>9} | ₹{record['Remaining Balance']:>17}\")\n",
    "                      \n",
    "            # === Run the Calculator ===\n",
    "if __name__ == \"__main__\":\n",
    "    P = float(input(\"Enter loan amount (₹): \"))\n",
    "    R = float(input(\"Enter annual interest rate (%): \"))\n",
    "    Y = int(input(\"Enter loan duration (years): \"))\n",
    "\n",
    "    loan = LoanCalculator(P,R,Y)\n",
    "    loan.print_summary()\n",
    "    loan.generate_amortization_schedule()\n",
    "    loan.print_schedule()    "
   ]
  },
  {
   "cell_type": "code",
   "execution_count": null,
   "id": "1943c375-0f06-46f7-9048-e61773591ec9",
   "metadata": {},
   "outputs": [],
   "source": []
  }
 ],
 "metadata": {
  "kernelspec": {
   "display_name": "Python 3 (ipykernel)",
   "language": "python",
   "name": "python3"
  },
  "language_info": {
   "codemirror_mode": {
    "name": "ipython",
    "version": 3
   },
   "file_extension": ".py",
   "mimetype": "text/x-python",
   "name": "python",
   "nbconvert_exporter": "python",
   "pygments_lexer": "ipython3",
   "version": "3.13.5"
  }
 },
 "nbformat": 4,
 "nbformat_minor": 5
}
